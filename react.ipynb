{
 "cells": [
  {
   "attachments": {},
   "cell_type": "markdown",
   "metadata": {},
   "source": [
    "# React Basic"
   ]
  },
  {
   "attachments": {},
   "cell_type": "markdown",
   "metadata": {},
   "source": [
    "```html\n",
    "<!DOCTYPE html>\n",
    "<html>\n",
    "    <body>\n",
    "        <div id=\"root\"></div>\n",
    "    </body>\n",
    "    <script src=\"https://www.unpkg.com/react@18.3.1/umd/react.production.min.js\"></script>\n",
    "    <script src=\"https://unpkg.com/react-dom@18.3.1/umd/react-dom.production.min.js\"></script>\n",
    "    <script src=\"https://unpkg.com/@babel/standalone/babel.min.js\"></script>\n",
    "    <script type=\"text/babel\">\n",
    "        const root = document.getElementById(\"root\");\n",
    "        function App() {\n",
    "            const [counter, setCounter] = React.useState(0);\n",
    "            const onClick = () => {\n",
    "                //setCounter(counter + 1)\n",
    "                setCounter((current) => current + 1);\n",
    "            }\n",
    "            return (\n",
    "                <div>\n",
    "                    <h3>Total Click: {counter}</h3>\n",
    "                    <button onClick={onClick}>Click me</button>\n",
    "                </div> \n",
    "            );\n",
    "        }\n",
    "        ReactDOM.render(<App />, root);\n",
    "    </script>\n",
    "</html>\n",
    "```"
   ]
  },
  {
   "attachments": {},
   "cell_type": "markdown",
   "metadata": {},
   "source": [
    "### 1. Setting Up the HTML Structure\n",
    "```html\n",
    "<!DOCTYPE html>\n",
    "<html>\n",
    "    <body>\n",
    "        <div id=\"root\"></div>\n",
    "    </body>\n",
    "```\n",
    "\n",
    "Here, we're setting up a basic HTML structure with a div element that has an id of \"root.\"<br> This div will be the root element where our React application is mounted."
   ]
  },
  {
   "attachments": {},
   "cell_type": "markdown",
   "metadata": {},
   "source": [
    "### 2. Including React and Babel\n",
    "```html\n",
    "<script src=\"https://www.unpkg.com/react@18.3.1/umd/react.production.min.js\"></script>\n",
    "<script src=\"https://unpkg.com/react-dom@18.3.1/umd/react-dom.production.min.js\"></script>\n",
    "<script src=\"https://unpkg.com/@babel/standalone/babel.min.js\"></script>\n",
    "```\n",
    "\n",
    "These script tags include React, ReactDOM, and Babel from a CDN (Content Delivery Network).\n",
    "\n",
    "* **React** is the core library that provides the necessary functionality to build components and manage state.\n",
    "* **ReactDOM** is a package that provides DOM-specific methods, allowing us to render our React components to the actual DOM.\n",
    "* **Babel** is a JavaScript compiler that converts JSX (a syntax extension for JavaScript that looks similar to HTML) into standard JavaScript that browsers can understand."
   ]
  },
  {
   "attachments": {},
   "cell_type": "markdown",
   "metadata": {},
   "source": [
    "#### 1. Component Definition:\n",
    "```javascript\n",
    "function App() {\n",
    "```\n",
    "* This is a functional component in React.\n",
    "* In React, components can be written as either functions or classes, \n",
    "but function components are more common in modern React development because they are simpler and more concise"
   ]
  },
  {
   "attachments": {},
   "cell_type": "markdown",
   "metadata": {},
   "source": [
    "#### 2. State Management with useState:\n",
    "```javascript\n",
    "const [counter, setCounter] = React.useState(0);\n",
    "```\n",
    "* `useState` is a Hook in React that allows you to add state to functional components. In this example, we are creating a state variable named `counter` and a corresponding state setter function named `setCounter`.\n",
    "* The initial state is set to `0`.` useState(0)` initializes the `counter` state to 0 when the component is first rendered."
   ]
  },
  {
   "attachments": {},
   "cell_type": "markdown",
   "metadata": {},
   "source": [
    "#### 3. Event Handling:\n",
    "```javascript\n",
    "const onClick = () => {\n",
    "    //setCounter(counter + 1)\n",
    "    setCounter((current) => current + 1);\n",
    "}\n",
    "```\n",
    "* This function onClick is an event handler for the button's onClick event. When the button is clicked, this function is called.\n",
    "\n",
    "* **Two Ways to Update State:**\n",
    "\n",
    "    * `setCounter(counter + 1)` **(commented out)**: This approach simply takes the current value of `counter` and adds 1 to it. This is a straightforward way to update state, but `it can lead to issues when multiple state updates are queued, such as in asynchronous operations or when multiple state changes occur rapidly`.<br> In those cases, counter might not reflect the most recent state due to React's batching updates for performance optimization.\n",
    "\n",
    "    * `setCounter((current) => current + 1)` **(used in the code)**: This approach uses *`a functional update`*. Instead of directly passing the new state, it passes a function that takes the **current state** `(current)` and returns the **new state** `(current + 1)`. <br> This method is preferred because it ensures that the update is based on the most recent state value, even if multiple updates are batched together. <br> It provides a more reliable and predictable way to handle state updates, especially in cases where state changes are dependent on the previous state.\n"
   ]
  },
  {
   "attachments": {},
   "cell_type": "markdown",
   "metadata": {},
   "source": [
    "#### 4. Rendering the UI:\n",
    "```javascript\n",
    "return (\n",
    "    <div>\n",
    "        <h3>Total Click: {counter}</h3>\n",
    "        <button onClick={onClick}>Click me</button>\n",
    "    </div> \n",
    ");\n",
    "```\n",
    "* The `return` statement defines the UI of the component using `JSX`. It returns a div containing a h3 element displaying the current counter value and a button that triggers the onClick function when clicked."
   ]
  },
  {
   "attachments": {},
   "cell_type": "markdown",
   "metadata": {},
   "source": [
    "#### 5. Mounting the Component to the DOM\n",
    "```javascript\n",
    "ReactDOM.render(<App />, root);\n",
    "```\n",
    "* `ReactDOM.render:` This function is used to render our App component into the `div` with `id=\"root\"`. It takes **two arguments**: `the React element` (in this case, <App />) and the `root DOM node` where the element should be rendered."
   ]
  }
 ],
 "metadata": {
  "language_info": {
   "name": "python"
  },
  "orig_nbformat": 4
 },
 "nbformat": 4,
 "nbformat_minor": 2
}
